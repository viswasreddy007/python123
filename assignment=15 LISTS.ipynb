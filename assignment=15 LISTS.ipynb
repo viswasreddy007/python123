{
 "cells": [
  {
   "cell_type": "markdown",
   "id": "15f729c2-09d8-4452-b190-fb8bd1a2eb53",
   "metadata": {},
   "source": [
    "### Q1) find the index values of if a is present in the given string or not and also print the sum of these indexes"
   ]
  },
  {
   "cell_type": "code",
   "execution_count": 4,
   "id": "efc05a66-f1a2-44a0-9dc7-f3386188df84",
   "metadata": {},
   "outputs": [
    {
     "name": "stdout",
     "output_type": "stream",
     "text": [
      "the indexes are = 1 5 9\n",
      "the sum of the indexes = 15\n"
     ]
    }
   ],
   "source": [
    "a='hai hai hai'\n",
    "b=[]\n",
    "for i in range(len(a)):\n",
    "    if a[i]=='a':\n",
    "        b.append(i)\n",
    "print('the indexes are =',*b)\n",
    "print('the sum of the indexes =',sum(b))"
   ]
  },
  {
   "cell_type": "markdown",
   "id": "4e1ef119-d32f-4d4e-a321-87bbf1b8cebc",
   "metadata": {},
   "source": [
    "### Q2)l1=['Hyd','Mumbai','Chennai','blr'] ans=['Mumbai','Chennai']   we want lements which are len of element >4"
   ]
  },
  {
   "cell_type": "code",
   "execution_count": 2,
   "id": "abff6654-23b5-4e63-877d-3fb2c40ef921",
   "metadata": {},
   "outputs": [
    {
     "name": "stdout",
     "output_type": "stream",
     "text": [
      "mumbai chennai\n"
     ]
    }
   ],
   "source": [
    "a=['hyd','mumbai','chennai','blr']\n",
    "b=[]\n",
    "for i in a:\n",
    "    if len(i)>4:\n",
    "        b.append(i)\n",
    "print(*b)"
   ]
  },
  {
   "cell_type": "markdown",
   "id": "e8277f02-e8df-4f36-8134-2676f3d3bef5",
   "metadata": {},
   "source": [
    "### Q3)l1=['Hyd','Mum#bai','Chen#nai','blr'] ans=['Mum#bai'',Chen#nai'] we want lements which are having '#'"
   ]
  },
  {
   "cell_type": "code",
   "execution_count": 3,
   "id": "57995731-a590-4fd3-8a0d-c6e07f0af3cc",
   "metadata": {},
   "outputs": [
    {
     "name": "stdout",
     "output_type": "stream",
     "text": [
      "the elements having # = Mum#bai Chen#nai\n"
     ]
    }
   ],
   "source": [
    "a=['Hyd','Mum#bai','Chen#nai','blr']\n",
    "b=[]\n",
    "for i in a:\n",
    "    if '#' in i:\n",
    "        b.append(i)\n",
    "print('the elements having # =',*b)\n",
    "\n",
    "# 'viswas' in '#'   # viswas iis available in #\n",
    "# '#' in 'viswas'   # is '#' is available in viswas\n",
    "# 'viswa#as' in #    # is 'visw##as in '#'\n",
    "# '#' in visw##as    # is '#' available in 'viswa##s'"
   ]
  },
  {
   "cell_type": "markdown",
   "id": "ce648d48-1ee1-4086-8649-806a8026fca3",
   "metadata": {},
   "source": [
    "### Q4)l1=['hyd','mumbai','chennai','blr' ans= ['Hyd','Mumbai','Chennai','Blr']we want lements which are len of element >4"
   ]
  },
  {
   "cell_type": "code",
   "execution_count": 22,
   "id": "63051b79-6fa6-4d0c-9a3b-a3686b2d18dc",
   "metadata": {},
   "outputs": [
    {
     "name": "stdout",
     "output_type": "stream",
     "text": [
      "hyd blr\n"
     ]
    }
   ],
   "source": [
    "b=[]\n",
    "a=['hyd','mumbai','chennai','blr']\n",
    "for i in a:\n",
    "    if len(i)<4:\n",
    "        b.append(i)\n",
    "print(*b)"
   ]
  },
  {
   "cell_type": "markdown",
   "id": "52fb73e1-7b8c-4a35-b2b7-2d2f93898d52",
   "metadata": {},
   "source": [
    "### Q5)l1=['Hyd','Mumbai','chennai','blr'] ans= ['Hyd','Mumbai'] we want lements which are having first letter capital"
   ]
  },
  {
   "cell_type": "code",
   "execution_count": 7,
   "id": "6112887c-270f-4205-a1d7-9d5d349c8499",
   "metadata": {},
   "outputs": [
    {
     "name": "stdout",
     "output_type": "stream",
     "text": [
      "Hyd Mumbai\n",
      "Hyd Mumbai Chennai Blr\n"
     ]
    }
   ],
   "source": [
    "a=['Hyd','Mumbai','chennai','blr']\n",
    "b=[]\n",
    "for i in a:\n",
    "    if i.istitle():\n",
    "        b.append(i,)\n",
    "print(*b)\n",
    "\n",
    "####################################\n",
    "\n",
    "a=['Hyd','Mumbai','chennai','blr']\n",
    "b=[]\n",
    "for i in a:\n",
    "        b.append(i.title())\n",
    "print(*b)\n",
    "\n",
    "\n",
    "# what is the diffenece between title and upper\n"
   ]
  },
  {
   "cell_type": "code",
   "execution_count": 9,
   "id": "b01cd361-5882-46ec-86fe-bd84d26bb4db",
   "metadata": {
    "scrolled": true
   },
   "outputs": [
    {
     "data": {
      "text/plain": [
       "'Hello Im Learning Python'"
      ]
     },
     "execution_count": 9,
     "metadata": {},
     "output_type": "execute_result"
    }
   ],
   "source": [
    "a='hello im learning python'\n",
    "# make everyword capatalize\n",
    "a.title()"
   ]
  },
  {
   "cell_type": "code",
   "execution_count": null,
   "id": "0fd21514-0add-4901-8323-73cc562aceb4",
   "metadata": {},
   "outputs": [],
   "source": [
    "# do the same using capatilize method\n",
    "# step-1 split the string\n",
    "# step-2 take empty list\n",
    "# step-3 iterate the each letter and aply capatilize and append it\n",
    "# step-4 join the list\n",
    "\n",
    "a='hello im learning python'\n",
    "b=a.split()\n",
    "for i in b:\n",
    "    "
   ]
  },
  {
   "cell_type": "markdown",
   "id": "89007669-355d-4ed7-9743-4a6bddd152f3",
   "metadata": {},
   "source": [
    "### Q-6"
   ]
  },
  {
   "cell_type": "code",
   "execution_count": 24,
   "id": "2ad90da6-f35b-4451-ad95-051c071dcb59",
   "metadata": {},
   "outputs": [
    {
     "name": "stdout",
     "output_type": "stream",
     "text": [
      " ans_# with # present= Mum#bai Chen#nai\n",
      "# is not present words are = Hyd blr\n"
     ]
    }
   ],
   "source": [
    "#Q6)l1=['Hyd','Mum#bai','Chen#nai','blr']\n",
    "#  ans_#=['Mum#bai'',Chen#nai']  \n",
    "#  ans_without_#=['Hyd'','blr']\n",
    "#  we want lements which are not having '#'\n",
    "\n",
    "a=['Hyd','Mum#bai','Chen#nai','blr']\n",
    "with1=[]\n",
    "without=[]\n",
    "for i in a:\n",
    "    if '#' in i:\n",
    "        with1.append(i)\n",
    "    else:\n",
    "        without.append(i)\n",
    "print(' ans_# with # present=',*with1)\n",
    "print('# is not present words are =',*without)\n",
    "\n"
   ]
  },
  {
   "cell_type": "markdown",
   "id": "d33beed7-b23b-4e5f-88ea-7d3e2bb381f3",
   "metadata": {},
   "source": [
    "### Q-7"
   ]
  },
  {
   "cell_type": "code",
   "execution_count": 39,
   "id": "59e67318-0e40-4a73-906c-6e503e61d9b3",
   "metadata": {},
   "outputs": [
    {
     "name": "stdout",
     "output_type": "stream",
     "text": [
      "the even numbers = 10 2\n",
      "the odd numbers = 5 9 5\n"
     ]
    }
   ],
   "source": [
    "# Q7) ask the user get 5 numbers randomly\n",
    "#     even_list and odd_list\n",
    "#     even numbers should append at even_list\n",
    "#     odd number should append at odd_list\n",
    "\n",
    "import random\n",
    "b=[]\n",
    "even=[]\n",
    "odd=[]\n",
    "for i in range(5):\n",
    "    a=(random.randint(1,10))\n",
    "    b.append(a)\n",
    "for j in b:\n",
    "    if j%2==0:\n",
    "        even.append(j)\n",
    "    else:\n",
    "        odd.append(j)\n",
    "print('the even numbers =',*even)\n",
    "print('the odd numbers =',*odd)\n"
   ]
  },
  {
   "cell_type": "markdown",
   "id": "5080594e-3ee2-4846-b5d6-9aba15f5d59c",
   "metadata": {},
   "source": [
    "### Q-8\n",
    "- Q8) str='hello hai how are you'\r",
    "-  Maximum len of word using split and max metho .d- # sum of all the indexes of the maximum len of word using append\r\n"
   ]
  },
  {
   "cell_type": "code",
   "execution_count": 11,
   "id": "d7e1b524-57df-4ea0-a71a-a81576524efc",
   "metadata": {},
   "outputs": [
    {
     "name": "stdout",
     "output_type": "stream",
     "text": [
      "the maximum length of word = hello\n",
      "the sum of their indexes = 10\n"
     ]
    }
   ],
   "source": [
    "a=' hello hai how are you'\n",
    "b=a.split()\n",
    "d=[]\n",
    "e=[]\n",
    "c=0\n",
    "for i in b:\n",
    "    if len(i)>c:\n",
    "        d.append(i)\n",
    "        c=len(i)\n",
    "g=str(*d)\n",
    "print('the maximum length of word =',g)\n",
    "for j in range(len(g)):\n",
    "    e.append(j)\n",
    "print('the sum of their indexes =',sum(e))\n",
    "    "
   ]
  },
  {
   "cell_type": "markdown",
   "id": "1cfc3d16-a891-4362-87ab-cb299d9e44f4",
   "metadata": {},
   "source": [
    "### Q-9\n",
    "- Q9) str1='virat.kohli@rcb.com, Rohit.sharma@mi.co, KL.Rahul@lucknow.com'\n",
    "- Firstname=[]  second name=[]  cname =[]\n",
    "- append first name should be in first name list\n",
    "- second name shoul be in second name list\n",
    "- thirs name will be in thirs name list\n"
   ]
  },
  {
   "cell_type": "code",
   "execution_count": 116,
   "id": "59261cbc-9726-4c5c-9246-e88b41689b0d",
   "metadata": {},
   "outputs": [
    {
     "name": "stdout",
     "output_type": "stream",
     "text": [
      "virat Rohit KL\n",
      "kohli sharma Rahul\n",
      "rcb mi lucknow\n"
     ]
    }
   ],
   "source": [
    "a='virat.kohli@rcb.com,Rohit.sharma@mi.com,KL.Rahul@lucknow.com'\n",
    "b=a.split(',')\n",
    "first_name,second_name,company=[],[],[]\n",
    "for i in b:\n",
    "    name,domain=i.split('@')\n",
    "    first,second=name.split('.')\n",
    "    first_name.append(first)\n",
    "    second_name.append(second)\n",
    "    company.append(domain.split('.')[0])\n",
    "print(*first_name)\n",
    "print(*second_name)\n",
    "print(*company)\n"
   ]
  },
  {
   "cell_type": "code",
   "execution_count": 51,
   "id": "a4ef725e-08b7-40eb-bef3-7d16576cea0b",
   "metadata": {},
   "outputs": [
    {
     "name": "stdout",
     "output_type": "stream",
     "text": [
      "first name is = virat\n",
      "second name is = kohli\n",
      "company name = rcb\n"
     ]
    }
   ],
   "source": [
    "a='virat.kohli@rcb.com'\n",
    "b=a.index('.')\n",
    "c=a.index('@')\n",
    "d=a.index('.',c)\n",
    "print('first name is =',a[0:b])\n",
    "print('second name is =',a[b+1:c])\n",
    "print('company name =',a[c+1:d])"
   ]
  },
  {
   "cell_type": "markdown",
   "id": "992b032d-9779-4dbd-a3db-6b99b49dba18",
   "metadata": {},
   "source": [
    "### Q-10)\n",
    "- You have two lists\n",
    "- qns=['What is capital of India','Who is PM of india','Who is ICT ODI captian']\n",
    "- ans = ['Delhi','Modi','Rohit']"
   ]
  },
  {
   "cell_type": "code",
   "execution_count": 77,
   "id": "e6936fab-0f8e-4c94-922c-626a9e46a939",
   "metadata": {},
   "outputs": [
    {
     "name": "stdout",
     "output_type": "stream",
     "text": [
      "4\n"
     ]
    }
   ],
   "source": [
    "a=['What is capital of India','Who is PM of india','Who is ICT ODI captian','viswas']\n",
    "c=['Delhi','Modi','Rohit','viswas']\n",
    "sum=0\n",
    "for i in range(len(a)):\n",
    "    for j in range(len(c)):\n",
    "        if i==j:\n",
    "            sum+=1\n",
    "        else:\n",
    "            sum=sum\n",
    "print(sum)"
   ]
  },
  {
   "cell_type": "code",
   "execution_count": 6,
   "id": "be051937-b1fc-4267-8c60-b59fbde89f4e",
   "metadata": {},
   "outputs": [
    {
     "name": "stdin",
     "output_type": "stream",
     "text": [
      "What is capital of India delhi\n",
      "Who is PM of india modi\n",
      "Who is ICT ODI captian rohit\n"
     ]
    },
    {
     "name": "stdout",
     "output_type": "stream",
     "text": [
      "the total marks are = 3\n"
     ]
    }
   ],
   "source": [
    "a=['What is capital of India','Who is PM of india','Who is ICT ODI captian']\n",
    "c=['Delhi','Modi','Rohit']\n",
    "b=0\n",
    "for i in range(len(a)):\n",
    "    c1=input(a[i])\n",
    "    if c1.lower()==c[i].lower():\n",
    "        b+=1\n",
    "print('the total marks are =',b)"
   ]
  },
  {
   "cell_type": "code",
   "execution_count": 125,
   "id": "92741b47-86b3-4592-b75c-734348181449",
   "metadata": {},
   "outputs": [
    {
     "name": "stdout",
     "output_type": "stream",
     "text": [
      "viswas\n",
      "reddy\n",
      "vishnu\n"
     ]
    }
   ],
   "source": [
    "a='viswas.reddy@vishnu.com'\n",
    "name,domain=a.split('@')\n",
    "first,second=name.split('.')\n",
    "college=domain.split('.')[0]\n",
    "print(first)\n",
    "print(second)\n",
    "print(college)"
   ]
  },
  {
   "cell_type": "markdown",
   "id": "fa5770b6-003b-4962-aa89-8542b7cb08cd",
   "metadata": {},
   "source": [
    "# METHODS"
   ]
  },
  {
   "cell_type": "code",
   "execution_count": 7,
   "id": "9d2d57b2-c411-4fef-850c-f026745c5a6a",
   "metadata": {},
   "outputs": [
    {
     "data": {
      "text/plain": [
       "['__add__',\n",
       " '__class__',\n",
       " '__class_getitem__',\n",
       " '__contains__',\n",
       " '__delattr__',\n",
       " '__delitem__',\n",
       " '__dir__',\n",
       " '__doc__',\n",
       " '__eq__',\n",
       " '__format__',\n",
       " '__ge__',\n",
       " '__getattribute__',\n",
       " '__getitem__',\n",
       " '__getstate__',\n",
       " '__gt__',\n",
       " '__hash__',\n",
       " '__iadd__',\n",
       " '__imul__',\n",
       " '__init__',\n",
       " '__init_subclass__',\n",
       " '__iter__',\n",
       " '__le__',\n",
       " '__len__',\n",
       " '__lt__',\n",
       " '__mul__',\n",
       " '__ne__',\n",
       " '__new__',\n",
       " '__reduce__',\n",
       " '__reduce_ex__',\n",
       " '__repr__',\n",
       " '__reversed__',\n",
       " '__rmul__',\n",
       " '__setattr__',\n",
       " '__setitem__',\n",
       " '__sizeof__',\n",
       " '__str__',\n",
       " '__subclasshook__',\n",
       " 'append',\n",
       " 'clear',\n",
       " 'copy',\n",
       " 'count',\n",
       " 'extend',\n",
       " 'index',\n",
       " 'insert',\n",
       " 'pop',\n",
       " 'remove',\n",
       " 'reverse',\n",
       " 'sort']"
      ]
     },
     "execution_count": 7,
     "metadata": {},
     "output_type": "execute_result"
    }
   ],
   "source": [
    "dir([])"
   ]
  },
  {
   "cell_type": "code",
   "execution_count": 70,
   "id": "a68c5039-a342-43b0-b7ef-4b4137aa20b2",
   "metadata": {},
   "outputs": [
    {
     "ename": "SyntaxError",
     "evalue": "unterminated string literal (detected at line 1) (142081801.py, line 1)",
     "output_type": "error",
     "traceback": [
      "\u001b[1;36m  Cell \u001b[1;32mIn[70], line 1\u001b[1;36m\u001b[0m\n\u001b[1;33m    append',\u001b[0m\n\u001b[1;37m          ^\u001b[0m\n\u001b[1;31mSyntaxError\u001b[0m\u001b[1;31m:\u001b[0m unterminated string literal (detected at line 1)\n"
     ]
    }
   ],
   "source": [
    "append',\n",
    " 'clear',\n",
    " 'copy',\n",
    " 'count',\n",
    " 'extend',\n",
    " 'index',\n",
    " 'insert',\n",
    " 'pop',\n",
    " 'remove',\n",
    " 'reverse',\n",
    " 'sort']\n",
    "\n",
    "append vs extend vs concatination vs insert\n",
    "\n",
    "pop vs remove\n",
    "\n",
    "reverse vs reversed\n",
    "\n",
    "index \n",
    "count\n",
    "clear copy\n",
    "\n",
    "\n",
    "# methods vs keywords\n",
    "# keywords = inbuild functions\n",
    "# print()  max() min()  len()  we write inside the brackets\n",
    "# l.copy()  l.clear()  we start with a.copy() inside the bracket we write an statement"
   ]
  },
  {
   "cell_type": "markdown",
   "id": "f26dfcb7-c8d9-4fc9-8516-86571e38d5b1",
   "metadata": {},
   "source": [
    "**append**"
   ]
  },
  {
   "cell_type": "code",
   "execution_count": 59,
   "id": "6f505371-eecc-4979-be71-ebdac23c2d70",
   "metadata": {},
   "outputs": [
    {
     "name": "stdout",
     "output_type": "stream",
     "text": [
      "[1, 2, 3, 4, 5, 6]\n"
     ]
    }
   ],
   "source": [
    "a=[1,2,3,4,5]\n",
    "a.append(6)\n",
    "print(a)"
   ]
  },
  {
   "cell_type": "markdown",
   "id": "cf53f59d-eeeb-4d91-a357-827b06cd1f53",
   "metadata": {},
   "source": [
    "**clear**"
   ]
  },
  {
   "cell_type": "code",
   "execution_count": 11,
   "id": "f1cd72cd-b978-41c8-afa1-0ba7394cca86",
   "metadata": {},
   "outputs": [
    {
     "data": {
      "text/plain": [
       "[]"
      ]
     },
     "execution_count": 11,
     "metadata": {},
     "output_type": "execute_result"
    }
   ],
   "source": [
    "a=[1,2,3,4,5,6]\n",
    "a.clear()\n",
    "a\n",
    "# clear keyword is used to clear all the list"
   ]
  },
  {
   "cell_type": "markdown",
   "id": "dfb4140d-3557-4213-bea6-1d4a9608f559",
   "metadata": {},
   "source": [
    "**copy**"
   ]
  },
  {
   "cell_type": "code",
   "execution_count": 60,
   "id": "d1bce09b-5d9c-4169-b6c4-4d248defdc1f",
   "metadata": {},
   "outputs": [
    {
     "data": {
      "text/plain": [
       "[1, 2, 3, 4, 5, 6]"
      ]
     },
     "execution_count": 60,
     "metadata": {},
     "output_type": "execute_result"
    }
   ],
   "source": [
    "a=[1,2,3,4,5,6]\n",
    "b=a.copy()\n",
    "b\n",
    "# copy means it give the output as list"
   ]
  },
  {
   "cell_type": "code",
   "execution_count": 62,
   "id": "45ea5b98-7600-4f0c-a8a9-b86a4b2d47ca",
   "metadata": {},
   "outputs": [
    {
     "data": {
      "text/plain": [
       "(1, 2, 3, 4, 5, 6, 1, 2, 3, 4, 5, 6)"
      ]
     },
     "execution_count": 62,
     "metadata": {},
     "output_type": "execute_result"
    }
   ],
   "source": [
    "*a,*b"
   ]
  },
  {
   "cell_type": "markdown",
   "id": "fd9202bd-842b-4b32-812a-38374f8ccb93",
   "metadata": {},
   "source": [
    "**count**"
   ]
  },
  {
   "cell_type": "code",
   "execution_count": 14,
   "id": "8bb1b2e6-1368-4b53-89fc-d71b9111da44",
   "metadata": {},
   "outputs": [
    {
     "data": {
      "text/plain": [
       "4"
      ]
     },
     "execution_count": 14,
     "metadata": {},
     "output_type": "execute_result"
    }
   ],
   "source": [
    "a=[1,1,1,1,22,2,2]\n",
    "b=a.count(1)\n",
    "b\n",
    "\n",
    "# count is used to count the numbers"
   ]
  },
  {
   "cell_type": "markdown",
   "id": "d1f04d5b-fc5c-4e79-9476-4d596faefaab",
   "metadata": {},
   "source": [
    "**extend**"
   ]
  },
  {
   "cell_type": "code",
   "execution_count": 47,
   "id": "8db0ef1c-98c7-49f4-aa67-b95b7958670e",
   "metadata": {},
   "outputs": [
    {
     "data": {
      "text/plain": [
       "[1, 4, 2, 3, 4, 5, 6]"
      ]
     },
     "execution_count": 47,
     "metadata": {},
     "output_type": "execute_result"
    }
   ],
   "source": [
    "# extend method\n",
    "a=[1,2,3,4,5,6]\n",
    "b=[1,2,3,4,5,6]\n",
    "a.extend(b)\n",
    "a\n",
    "# output = [1,2,3,4,5,6][1,2,3,4,5,6]\n",
    "########################\n",
    "# append method\n",
    "a=[1,2,3,4,5,6]\n",
    "b=[1,2,3,4,5,6]\n",
    "a.append(b)\n",
    "a\n",
    "# output = [1,2,3,4,5,6][1,2,3,4,5,6]\n",
    "##########################\n",
    "# concatination\n",
    "a=[1,2,3,4,5,6]\n",
    "b=[1,2,3,4,5,6]\n",
    "d=a+b\n",
    "d\n",
    "\n",
    "###########################\n",
    "# insert method\n",
    "a=[1,2,3,4,5,6]\n",
    "a.insert(1,4)\n",
    "a"
   ]
  },
  {
   "cell_type": "markdown",
   "id": "3c782a58-ed5b-4e8b-9c8b-4e86a9eabba0",
   "metadata": {},
   "source": [
    "**index**"
   ]
  },
  {
   "cell_type": "code",
   "execution_count": 21,
   "id": "dcf2ebc1-84a7-44d2-8318-e37083b88a27",
   "metadata": {},
   "outputs": [
    {
     "name": "stdout",
     "output_type": "stream",
     "text": [
      "5\n"
     ]
    }
   ],
   "source": [
    "a=[1,2,3,4,5,6]\n",
    "print(a.index(6))"
   ]
  },
  {
   "cell_type": "markdown",
   "id": "58c6cb46-5621-4b6c-95fd-d398f2db843b",
   "metadata": {},
   "source": [
    "**insert**"
   ]
  },
  {
   "cell_type": "code",
   "execution_count": 51,
   "id": "fcc899e5-10e2-4c25-b3a8-764a3ced5577",
   "metadata": {},
   "outputs": [
    {
     "data": {
      "text/plain": [
       "[1, 45, 2, 3, 4, 5, 6]"
      ]
     },
     "execution_count": 51,
     "metadata": {},
     "output_type": "execute_result"
    }
   ],
   "source": [
    "d=[1,2,3,4,5,6]\n",
    "(d.insert(1,45))\n",
    "d"
   ]
  },
  {
   "cell_type": "markdown",
   "id": "ed582ace-2e4b-423d-8f6e-6a4ccb8c5cb9",
   "metadata": {},
   "source": [
    "**pop**"
   ]
  },
  {
   "cell_type": "code",
   "execution_count": 32,
   "id": "416ce7c4-f6d6-4c3e-ac6e-f40172f0977d",
   "metadata": {},
   "outputs": [
    {
     "data": {
      "text/plain": [
       "[1, 3, 4, 5, 6]"
      ]
     },
     "execution_count": 32,
     "metadata": {},
     "output_type": "execute_result"
    }
   ],
   "source": [
    "a=[1,2,3,4,5,6]\n",
    "a.pop(1)\n",
    "a"
   ]
  },
  {
   "cell_type": "markdown",
   "id": "7ca94275-443b-4e19-9298-e6cba4bc836f",
   "metadata": {},
   "source": [
    "**pop vs remove**\n",
    "- pop will remove element using index\n",
    "- remove will remove element directly"
   ]
  },
  {
   "cell_type": "code",
   "execution_count": 50,
   "id": "331a69b0-cf8d-4c41-95c1-f573060c3ef9",
   "metadata": {},
   "outputs": [
    {
     "data": {
      "text/plain": [
       "[1, 3, 4, 5, 6]"
      ]
     },
     "execution_count": 50,
     "metadata": {},
     "output_type": "execute_result"
    }
   ],
   "source": [
    "t=[1,2,3,4,5,6]\n",
    "t.remove(2)\n",
    "t"
   ]
  },
  {
   "cell_type": "markdown",
   "id": "d4d397e9-fd3f-4a7b-8fb4-13a5e06f181d",
   "metadata": {},
   "source": [
    "**reverse**"
   ]
  },
  {
   "cell_type": "code",
   "execution_count": 57,
   "id": "9c144617-4a5b-4677-8f3d-334758389a0b",
   "metadata": {},
   "outputs": [
    {
     "data": {
      "text/plain": [
       "[6, 5, 4, 3, 2, 1]"
      ]
     },
     "execution_count": 57,
     "metadata": {},
     "output_type": "execute_result"
    }
   ],
   "source": [
    "t=[1,2,3,4,5,6]\n",
    "t.reverse()\n",
    "t"
   ]
  },
  {
   "cell_type": "markdown",
   "id": "c258a460-93e1-420b-b784-22b135af8e0c",
   "metadata": {},
   "source": [
    "**sorted'**"
   ]
  },
  {
   "cell_type": "code",
   "execution_count": 64,
   "id": "1d30bed3-2fa4-4e1d-9085-726f45dceb81",
   "metadata": {},
   "outputs": [
    {
     "data": {
      "text/plain": [
       "[1, 2, 3, 4, 5, 6]"
      ]
     },
     "execution_count": 64,
     "metadata": {},
     "output_type": "execute_result"
    }
   ],
   "source": [
    "a=[6, 5, 4, 3, 2, 1]\n",
    "b=sorted(a)\n",
    "b"
   ]
  },
  {
   "cell_type": "markdown",
   "id": "4d001682-c01c-4333-aba5-f7108c06026b",
   "metadata": {},
   "source": [
    "**reverse vs reversed**"
   ]
  },
  {
   "cell_type": "code",
   "execution_count": 69,
   "id": "17d4ac82-a069-4a70-af84-797cd00a6c09",
   "metadata": {},
   "outputs": [
    {
     "name": "stdout",
     "output_type": "stream",
     "text": [
      "6 5 4 3 2 1 "
     ]
    }
   ],
   "source": [
    "t=[1,2,3,4,5,6]\n",
    "h=reversed(t)\n",
    "for i in h:\n",
    "    print(i,end=' ')"
   ]
  },
  {
   "cell_type": "markdown",
   "id": "0cb207fe-a7ca-42e0-8f3c-d82ada1411bb",
   "metadata": {},
   "source": [
    "**sort**"
   ]
  },
  {
   "cell_type": "code",
   "execution_count": 55,
   "id": "e6b3a5ed-04a2-4fc0-b484-3ab3412f584c",
   "metadata": {},
   "outputs": [
    {
     "data": {
      "text/plain": [
       "[1, 2, 3, 4, 5, 6]"
      ]
     },
     "execution_count": 55,
     "metadata": {},
     "output_type": "execute_result"
    }
   ],
   "source": [
    "a=[6, 5, 4, 3, 2, 1]\n",
    "a.sort()\n",
    "a"
   ]
  },
  {
   "cell_type": "markdown",
   "id": "985a18c2-efb1-45ca-a35d-0ee2d731e0d5",
   "metadata": {},
   "source": [
    "**clear copy**\n",
    "- if we use clear method it will clear complete list\n",
    "- if we use copy method it wll print the same list in the output"
   ]
  },
  {
   "cell_type": "code",
   "execution_count": 81,
   "id": "6a9345af-bda0-4b29-9a90-0787e811face",
   "metadata": {},
   "outputs": [
    {
     "data": {
      "text/plain": [
       "[1, 2, 3, 4, 10, 20, 30, 40]"
      ]
     },
     "execution_count": 81,
     "metadata": {},
     "output_type": "execute_result"
    }
   ],
   "source": [
    "a=[1,2,3,4]\n",
    "a.extend((10,20,30,40))\n",
    "a"
   ]
  },
  {
   "cell_type": "markdown",
   "id": "77114715-ee83-4632-950f-9ef8c3e7ee6a",
   "metadata": {},
   "source": [
    "- append is just append the value base data  type\n",
    "- extend is concatenate the value, and the list will be overwrite with new values\n",
    "- extend can take any iterable format type i.e string,list,tuple\n",
    "- extend and concationation both are same\n",
    "- the list will not overwrite in concatination"
   ]
  },
  {
   "cell_type": "markdown",
   "id": "07e1d899-0ae4-4dd4-ae96-71106499dc85",
   "metadata": {},
   "source": [
    "**INDEX**\n",
    "- index are same like string only"
   ]
  },
  {
   "cell_type": "code",
   "execution_count": 92,
   "id": "4c87063c-9e4d-4470-b79b-bbb7d799e341",
   "metadata": {},
   "outputs": [
    {
     "name": "stdout",
     "output_type": "stream",
     "text": [
      "3 7\n"
     ]
    }
   ],
   "source": [
    "l1=[1, 2, 3,'apple',4, 10, 20,'apple', 30, 40]\n",
    "i1=l1.index('apple')\n",
    "i2=l1.index('apple',i1+1)\n",
    "print(i1,i2)"
   ]
  },
  {
   "cell_type": "code",
   "execution_count": null,
   "id": "d0b80286-5bdf-4e6f-8d41-c377354fe52f",
   "metadata": {},
   "outputs": [],
   "source": []
  }
 ],
 "metadata": {
  "kernelspec": {
   "display_name": "Python 3 (ipykernel)",
   "language": "python",
   "name": "python3"
  },
  "language_info": {
   "codemirror_mode": {
    "name": "ipython",
    "version": 3
   },
   "file_extension": ".py",
   "mimetype": "text/x-python",
   "name": "python",
   "nbconvert_exporter": "python",
   "pygments_lexer": "ipython3",
   "version": "3.11.7"
  },
  "widgets": {
   "application/vnd.jupyter.widget-state+json": {
    "state": {},
    "version_major": 2,
    "version_minor": 0
   }
  }
 },
 "nbformat": 4,
 "nbformat_minor": 5
}
