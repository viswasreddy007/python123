{
 "cells": [
  {
   "cell_type": "markdown",
   "id": "89b97d29-218c-41a6-a54f-ae4130b27bcf",
   "metadata": {},
   "source": [
    "# 1) square of the number"
   ]
  },
  {
   "cell_type": "code",
   "execution_count": 1,
   "id": "e9f2269c-ef3a-4d9d-b364-d7d42039948d",
   "metadata": {},
   "outputs": [
    {
     "name": "stdin",
     "output_type": "stream",
     "text": [
      "Enter the number :- 5\n"
     ]
    },
    {
     "name": "stdout",
     "output_type": "stream",
     "text": [
      "The square of the  5 is :- 25\n"
     ]
    }
   ],
   "source": [
    "a=eval(input('Enter the number :-'))\n",
    "print('The square of the ',a,'is :-',a*a)"
   ]
  },
  {
   "cell_type": "markdown",
   "id": "88b33f1c-0f42-4c60-b970-da6bd8761d5c",
   "metadata": {},
   "source": [
    "# 2) Ask the user to enter a number x. print out x, 2x, 3x, 4x, and 5x,\n"
   ]
  },
  {
   "cell_type": "code",
   "execution_count": 3,
   "id": "82592498-66d5-4d6a-a0c0-12e4416f7e4e",
   "metadata": {},
   "outputs": [
    {
     "name": "stdin",
     "output_type": "stream",
     "text": [
      " 7\n"
     ]
    },
    {
     "name": "stdout",
     "output_type": "stream",
     "text": [
      "7---14---21---28---35\n"
     ]
    }
   ],
   "source": [
    "a=int(input())\n",
    "print(a,(2*a),(3*a),(4*a),(5*a),sep=('---'))"
   ]
  },
  {
   "cell_type": "markdown",
   "id": "1093d2fc-3c90-43e5-9ff9-e85ba80fcf3c",
   "metadata": {},
   "source": [
    "# 3) Write a program that asks the user for a weight in kilograms and\n"
   ]
  },
  {
   "cell_type": "code",
   "execution_count": 4,
   "id": "323f8f51-595a-4942-abbd-bf7511a30083",
   "metadata": {},
   "outputs": [
    {
     "name": "stdin",
     "output_type": "stream",
     "text": [
      "enter the weight :- 61\n",
      "enter the number of pounds in kilogram :- 2.2\n"
     ]
    },
    {
     "name": "stdout",
     "output_type": "stream",
     "text": [
      "total pounds :- 134.20000000000002\n"
     ]
    }
   ],
   "source": [
    "a=eval(input('enter the weight :-'))\n",
    "b=eval(input('enter the number of pounds in kilogram :-'))\n",
    "print('total pounds :-',(a*b))"
   ]
  },
  {
   "cell_type": "markdown",
   "id": "c828974b-5385-4cde-8296-223d759229d9",
   "metadata": {},
   "source": [
    "# 4) Create variables called total and average that hold the sum and average of the three numbers and print out the values of total and average."
   ]
  },
  {
   "cell_type": "code",
   "execution_count": 9,
   "id": "9e8d1a87-7e2f-41da-bdb9-8e12a372a654",
   "metadata": {},
   "outputs": [
    {
     "name": "stdin",
     "output_type": "stream",
     "text": [
      "enter the number1 10\n",
      "enter the number2 20\n",
      "enter the number3 30\n"
     ]
    },
    {
     "name": "stdout",
     "output_type": "stream",
     "text": [
      "The sum of the 10 and 20 and 30 is :- 60\n",
      "The average of 10 and 20 and 30 is = 20.0\n"
     ]
    }
   ],
   "source": [
    "a=eval(input('enter the number1'))\n",
    "b=eval(input('enter the number2'))\n",
    "c=eval(input('enter the number3'))\n",
    "sum=a+b+c\n",
    "print('The sum of the',a,'and',b,'and',c,'is :-',sum)\n",
    "print('The average of',a,'and',b,'and',c,'is =',(sum)/3)"
   ]
  },
  {
   "cell_type": "markdown",
   "id": "dd77a97c-202d-4681-a2a8-e54c7b5fdbee",
   "metadata": {},
   "source": [
    "# 5) print both the tip amount and the total bill with the tip included."
   ]
  },
  {
   "cell_type": "code",
   "execution_count": 2,
   "id": "63279b75-cda1-4e99-8e20-8ecaa7df14fa",
   "metadata": {},
   "outputs": [
    {
     "name": "stdin",
     "output_type": "stream",
     "text": [
      "enter the total bill amount 1000\n",
      "enter the tip percentage 10\n"
     ]
    },
    {
     "name": "stdout",
     "output_type": "stream",
     "text": [
      "tip amount = 100.0\n",
      "the total amount = 1100.0\n"
     ]
    }
   ],
   "source": [
    "a=eval(input('enter the total bill amount'))\n",
    "b=eval(input('enter the tip percentage'))\n",
    "print('tip amount =',(a/b))\n",
    "print(\"the total amount =\",((a)+(a/b)))\n",
    "\n",
    "\n",
    "\n"
   ]
  },
  {
   "cell_type": "markdown",
   "id": "1175e8fe-2a90-48e8-a049-fcc48f6cbd1c",
   "metadata": {},
   "source": [
    "# 6) find the subtraction,addition, multiplication and division"
   ]
  },
  {
   "cell_type": "code",
   "execution_count": 3,
   "id": "f91aeb46-32ba-4dff-941a-683e5c5ba4ea",
   "metadata": {},
   "outputs": [
    {
     "name": "stdin",
     "output_type": "stream",
     "text": [
      "enter the number1 ;- 100\n",
      "enter the number2 ;- 50\n"
     ]
    },
    {
     "name": "stdout",
     "output_type": "stream",
     "text": [
      "the addition of 100 and 50 is = 150\n",
      "the subtraction of 100 and 50 is = 50\n",
      "the multiplication of 100 and 50 is = 5000\n",
      "the division of 100 and 50 is = 2.0\n"
     ]
    }
   ],
   "source": [
    "a=eval(input('enter the number1 ;-'))\n",
    "b=eval(input('enter the number2 ;-'))\n",
    "print('the addition of',a,'and',b,'is =',a+b)\n",
    "print('the subtraction of',a,'and',b,'is =',a-b)\n",
    "print('the multiplication of',a,'and',b,'is =',a*b)\n",
    "print('the division of',a,'and',b,'is =',a/b)\n",
    "\n"
   ]
  },
  {
   "cell_type": "markdown",
   "id": "18d94237-5352-4017-a2a0-0f5cb5e738b3",
   "metadata": {},
   "source": [
    "# 7) enter radius values and pi value find the area of the circle"
   ]
  },
  {
   "cell_type": "code",
   "execution_count": 4,
   "id": "138d694c-2b36-498a-a5b5-df8e5b48ca2f",
   "metadata": {},
   "outputs": [
    {
     "name": "stdin",
     "output_type": "stream",
     "text": [
      "enter the radius of the circle 10\n"
     ]
    },
    {
     "name": "stdout",
     "output_type": "stream",
     "text": [
      "the area of the circle is :- 314.0\n"
     ]
    }
   ],
   "source": [
    "a=eval(input('enter the radius of the circle'))\n",
    "print('the area of the circle is :-',3.14*a*a)"
   ]
  },
  {
   "cell_type": "markdown",
   "id": "f99fb88d-2bfe-4d4f-84a0-a402b756633d",
   "metadata": {},
   "source": [
    "# 8) ask the user bill amount in dollars,"
   ]
  },
  {
   "cell_type": "code",
   "execution_count": 5,
   "id": "16c91ea7-deed-4f85-a75d-ec168a705c9a",
   "metadata": {},
   "outputs": [
    {
     "name": "stdin",
     "output_type": "stream",
     "text": [
      "enter the bill amount in dollars :- 100\n",
      "enter the value that one dollar is equal to how many rupees 80\n"
     ]
    },
    {
     "name": "stdout",
     "output_type": "stream",
     "text": [
      "the total bill in dollar is :- 100\n",
      "the total amount in indian rupees is :- 8000\n"
     ]
    }
   ],
   "source": [
    "a=eval(input('enter the bill amount in dollars :-'))\n",
    "b=eval(input('enter the value that one dollar is equal to how many rupees'))\n",
    "print('the total bill in dollar is :-',a)\n",
    "print('the total amount in indian rupees is :-',(a*b))"
   ]
  },
  {
   "cell_type": "markdown",
   "id": "8e177247-41ec-4393-9b87-9cdd7a754688",
   "metadata": {},
   "source": [
    "# 9) base height calculate area of the triangle"
   ]
  },
  {
   "cell_type": "code",
   "execution_count": 6,
   "id": "bc8afe21-9a2f-47cc-aa29-89869ce54c39",
   "metadata": {},
   "outputs": [
    {
     "name": "stdin",
     "output_type": "stream",
     "text": [
      "enter the base of the traingle :- 10\n",
      "enter the height of the traingle :- 15\n"
     ]
    },
    {
     "name": "stdout",
     "output_type": "stream",
     "text": [
      "the area of the triangle is :- 75.0\n"
     ]
    }
   ],
   "source": [
    "a=eval(input('enter the base of the traingle :-'))\n",
    "b=eval(input('enter the height of the traingle :-'))\n",
    "print('the area of the triangle is :-',((0.5)*(a*b)))"
   ]
  },
  {
   "cell_type": "markdown",
   "id": "3d247b15-9905-494e-9cb9-5b2336b3f8b3",
   "metadata": {},
   "source": [
    "# 10) length and breadth calculate area of the rectangle"
   ]
  },
  {
   "cell_type": "code",
   "execution_count": 7,
   "id": "c40e47d4-adf0-42b6-af77-5ded541cd909",
   "metadata": {},
   "outputs": [
    {
     "name": "stdin",
     "output_type": "stream",
     "text": [
      "enter the breadth of the rectangle :- 50\n",
      "enter the length of the rectangle :- 100\n"
     ]
    },
    {
     "name": "stdout",
     "output_type": "stream",
     "text": [
      "the area of the reactangle is :- 5000\n"
     ]
    }
   ],
   "source": [
    "a=eval(input('enter the breadth of the rectangle :-'))\n",
    "b=eval(input('enter the length of the rectangle :-'))\n",
    "print('the area of the reactangle is :-',(a*b)) "
   ]
  },
  {
   "cell_type": "markdown",
   "id": "15178a0f-29b7-4a9d-bcd1-994059146015",
   "metadata": {},
   "source": [
    "# 11) story between Father and daughter"
   ]
  },
  {
   "cell_type": "code",
   "execution_count": 1,
   "id": "9421d85f-43f3-401b-801c-13210971a4ee",
   "metadata": {},
   "outputs": [
    {
     "name": "stdout",
     "output_type": "stream",
     "text": [
      "Father: Hey Baby!\n",
      "Daughter: Hello Dady\n",
      "Father: I heard your exams are over, what about result\n",
      "Daughter: Yes dad! Results are out.\n",
      "Father: what is the percentage?\n",
      "Daughter: I will give my subject wise marks , you tell me the percentage\n",
      "Father : Okay!\n"
     ]
    },
    {
     "name": "stdin",
     "output_type": "stream",
     "text": [
      "First Language: 45\n",
      "Second language: 45\n",
      "Third language: 45\n",
      "Science: 45\n",
      "Maths: 45\n"
     ]
    },
    {
     "name": "stdout",
     "output_type": "stream",
     "text": [
      "Father: Tell me the max marks of each subject\n"
     ]
    },
    {
     "name": "stdin",
     "output_type": "stream",
     "text": [
      "daughter : 100\n"
     ]
    },
    {
     "name": "stdout",
     "output_type": "stream",
     "text": [
      "the total sum of all marks is : 225\n",
      "the percentage of marks is : 45.0\n"
     ]
    }
   ],
   "source": [
    "print((\"Father: Hey Baby!\"))\n",
    "print('Daughter: Hello Dady')\n",
    "print('Father: I heard your exams are over, what about result')\n",
    "print('Daughter: Yes dad! Results are out.')\n",
    "print('Father: what is the percentage?')\n",
    "print('Daughter: I will give my subject wise marks , you tell me the percentage')\n",
    "print('Father : Okay!')\n",
    "z=int(input('First Language:'))\n",
    "y=int(input('Second language:'))\n",
    "x=int(input('Third language:'))\n",
    "w=int(input('Science:'))\n",
    "q=int(input('Maths:'))\n",
    "u=('Daughter: Dad Now tell me how much percentage I got')\n",
    "print('Father: Tell me the max marks of each subject')\n",
    "j=int(input('daughter :'))*5\n",
    "sum=int((z+y+x+w+q))\n",
    "print('the total sum of all marks is :',sum)\n",
    "print('the percentage of marks is :',(sum/j)*100)\n",
    "\n",
    "\n"
   ]
  },
  {
   "cell_type": "code",
   "execution_count": 1,
   "id": "9030b169-c7c0-40cf-bb67-b72562d9c6c4",
   "metadata": {},
   "outputs": [
    {
     "data": {
      "text/plain": [
       "30"
      ]
     },
     "execution_count": 1,
     "metadata": {},
     "output_type": "execute_result"
    }
   ],
   "source": [
    "a=10\n",
    "b=20\n",
    "c=a+b\n",
    "c"
   ]
  },
  {
   "cell_type": "code",
   "execution_count": 2,
   "id": "ce3d2abc-f1d2-447e-92c9-6dbdd3156d3c",
   "metadata": {},
   "outputs": [
    {
     "name": "stdout",
     "output_type": "stream",
     "text": [
      "10\n"
     ]
    }
   ],
   "source": [
    "a=10\n",
    "b=200\n",
    "print(a)"
   ]
  },
  {
   "cell_type": "code",
   "execution_count": null,
   "id": "782b11cc-13e6-4b45-ab54-c4c15e7b6a31",
   "metadata": {},
   "outputs": [],
   "source": []
  }
 ],
 "metadata": {
  "kernelspec": {
   "display_name": "Python 3 (ipykernel)",
   "language": "python",
   "name": "python3"
  },
  "language_info": {
   "codemirror_mode": {
    "name": "ipython",
    "version": 3
   },
   "file_extension": ".py",
   "mimetype": "text/x-python",
   "name": "python",
   "nbconvert_exporter": "python",
   "pygments_lexer": "ipython3",
   "version": "3.11.7"
  },
  "widgets": {
   "application/vnd.jupyter.widget-state+json": {
    "state": {},
    "version_major": 2,
    "version_minor": 0
   }
  }
 },
 "nbformat": 4,
 "nbformat_minor": 5
}
