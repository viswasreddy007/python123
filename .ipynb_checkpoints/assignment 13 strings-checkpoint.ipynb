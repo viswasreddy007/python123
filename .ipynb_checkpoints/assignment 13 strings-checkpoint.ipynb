{
 "cells": [
  {
   "cell_type": "markdown",
   "id": "c79d18c7-463b-4150-806e-337051049aed",
   "metadata": {},
   "source": [
    "### 1) split()\n",
    "- the split is used to the split the setenctce into word"
   ]
  },
  {
   "cell_type": "code",
   "execution_count": 1,
   "id": "b889e9f5-7b25-4754-bc9c-c6beae522a72",
   "metadata": {},
   "outputs": [
    {
     "data": {
      "text/plain": [
       "['viswas', 'reddy']"
      ]
     },
     "execution_count": 1,
     "metadata": {},
     "output_type": "execute_result"
    }
   ],
   "source": [
    "a='viswas reddy'\n",
    "a.split()"
   ]
  },
  {
   "cell_type": "markdown",
   "id": "e123b005-eaaf-40d9-8b3c-a5be51826e83",
   "metadata": {},
   "source": [
    "### 2) strip\n",
    "- remove spaces at begining and ending"
   ]
  },
  {
   "cell_type": "code",
   "execution_count": 25,
   "id": "52ce2833-b9e0-46ba-9411-ca2d43bd06f9",
   "metadata": {},
   "outputs": [
    {
     "name": "stdout",
     "output_type": "stream",
     "text": [
      "viswas reddy\n"
     ]
    }
   ],
   "source": [
    "a=\"        viswas reddy         \"\n",
    "x=a.strip()\n",
    "print(x)"
   ]
  },
  {
   "cell_type": "markdown",
   "id": "c8193eed-f7f8-488b-bb2e-5ec1683fdc7c",
   "metadata": {},
   "source": [
    "### 3) istrip()\n",
    "- it will remove white spaces in the staring "
   ]
  },
  {
   "cell_type": "code",
   "execution_count": 23,
   "id": "c7ef2bcf-9be7-438b-9979-fab85f7671bb",
   "metadata": {},
   "outputs": [
    {
     "data": {
      "text/plain": [
       "'viswas    '"
      ]
     },
     "execution_count": 23,
     "metadata": {},
     "output_type": "execute_result"
    }
   ],
   "source": [
    "a='        viswas    '\n",
    "a.lstrip()"
   ]
  },
  {
   "cell_type": "markdown",
   "id": "67d3ca9d-bb6e-433c-bbea-8822a6409205",
   "metadata": {},
   "source": [
    "### 4) rstrip()\n",
    "- it will remove the spcaes in the last of the word"
   ]
  },
  {
   "cell_type": "code",
   "execution_count": 26,
   "id": "a61195d2-d382-40ed-a2f8-142407ef8091",
   "metadata": {},
   "outputs": [
    {
     "data": {
      "text/plain": [
       "'     viswas'"
      ]
     },
     "execution_count": 26,
     "metadata": {},
     "output_type": "execute_result"
    }
   ],
   "source": [
    "a='     viswas          '\n",
    "a.rstrip()"
   ]
  },
  {
   "cell_type": "markdown",
   "id": "f4fd8848-2e94-4f89-8756-8db593d45be1",
   "metadata": {},
   "source": [
    "### 5) startswith()\n",
    "- it will check the given letter in the word starts with that letter or not if the letter will starts it will print true\n"
   ]
  },
  {
   "cell_type": "code",
   "execution_count": 35,
   "id": "a8b7a7b3-ad60-4bc6-ace2-f6d3e100ec7d",
   "metadata": {},
   "outputs": [
    {
     "data": {
      "text/plain": [
       "True"
      ]
     },
     "execution_count": 35,
     "metadata": {},
     "output_type": "execute_result"
    }
   ],
   "source": [
    "a='visvwas'\n",
    "a.startswith('v',3)  # 3 is the index value"
   ]
  },
  {
   "cell_type": "markdown",
   "id": "85c8658b-5b59-4101-8d56-b08afbc968a7",
   "metadata": {},
   "source": [
    "### 6) endswith()\n",
    "- it will check the given letter in the word is ends with that letter or not"
   ]
  },
  {
   "cell_type": "code",
   "execution_count": 2,
   "id": "959086d9-c007-46b7-851c-aa53e3d2a652",
   "metadata": {},
   "outputs": [
    {
     "data": {
      "text/plain": [
       "True"
      ]
     },
     "execution_count": 2,
     "metadata": {},
     "output_type": "execute_result"
    }
   ],
   "source": [
    "a='viswas,.'\n",
    "a.endswith('s,.')"
   ]
  },
  {
   "cell_type": "code",
   "execution_count": null,
   "id": "a4387f02-b637-424a-acd7-1b1874882fca",
   "metadata": {},
   "outputs": [],
   "source": []
  }
 ],
 "metadata": {
  "kernelspec": {
   "display_name": "Python 3 (ipykernel)",
   "language": "python",
   "name": "python3"
  },
  "language_info": {
   "codemirror_mode": {
    "name": "ipython",
    "version": 3
   },
   "file_extension": ".py",
   "mimetype": "text/x-python",
   "name": "python",
   "nbconvert_exporter": "python",
   "pygments_lexer": "ipython3",
   "version": "3.11.7"
  }
 },
 "nbformat": 4,
 "nbformat_minor": 5
}
