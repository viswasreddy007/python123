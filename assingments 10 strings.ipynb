{
 "cells": [
  {
   "cell_type": "markdown",
   "id": "8884ddee-8863-4b53-98e5-0599ac8386bc",
   "metadata": {},
   "source": [
    "### Q1) WAP ask the user count how many 'a' are present in a given string # str1='hai naresh how are you'"
   ]
  },
  {
   "cell_type": "code",
   "execution_count": 1,
   "id": "95e5a5e0-8cd6-4656-a855-08aaa84d0f97",
   "metadata": {},
   "outputs": [
    {
     "name": "stdout",
     "output_type": "stream",
     "text": [
      "there are 3 no of a in that string\n"
     ]
    }
   ],
   "source": [
    "a='hai naresh how are you'\n",
    "c=0\n",
    "for i in a:\n",
    "    if i=='a':\n",
    "        c+=1\n",
    "print('there are',c,'no of a in that string')"
   ]
  },
  {
   "cell_type": "markdown",
   "id": "cbb23d0a-254b-4f1c-bb8d-dbd01f947e6a",
   "metadata": {},
   "source": [
    "### Q2) WAP ask the find how many vowels are there in a given string"
   ]
  },
  {
   "cell_type": "code",
   "execution_count": 2,
   "id": "f3f2098a-bf1a-43c2-bd0a-c5b11ba1db9c",
   "metadata": {},
   "outputs": [
    {
     "name": "stdout",
     "output_type": "stream",
     "text": [
      "9\n"
     ]
    }
   ],
   "source": [
    "a='hai naresh how are you'\n",
    "b=0\n",
    "for i in a:\n",
    "    if i in 'aeiou':\n",
    "        b+=1\n",
    "print(b)"
   ]
  },
  {
   "cell_type": "markdown",
   "id": "17601975-aaf0-494a-a523-1cece2ba45ac",
   "metadata": {},
   "source": [
    "### Q3)  Count the vowels avoid the repeatition: Unique vowels"
   ]
  },
  {
   "cell_type": "code",
   "execution_count": 5,
   "id": "79ef9da2-8b5a-4b6c-9b3a-edce48bab040",
   "metadata": {},
   "outputs": [
    {
     "name": "stdout",
     "output_type": "stream",
     "text": [
      "there are 5 no of vowels\n",
      "a i e o u\n"
     ]
    }
   ],
   "source": [
    "a='hai naresh how are you'\n",
    "b=0\n",
    "c=[]\n",
    "for i in a:\n",
    "    if i in 'aeiou':\n",
    "        if i not in c:\n",
    "            b+=1\n",
    "            c.append(i)\n",
    "print('there are',b,'no of vowels')\n",
    "print(*c)\n"
   ]
  },
  {
   "cell_type": "markdown",
   "id": "60dd0576-553d-4b5c-9575-e13b726256c4",
   "metadata": {},
   "source": [
    "### Q4) print each letter using for loop range"
   ]
  },
  {
   "cell_type": "code",
   "execution_count": 6,
   "id": "4a8122a9-418f-4e92-9ca8-ef02414a059e",
   "metadata": {},
   "outputs": [
    {
     "name": "stdout",
     "output_type": "stream",
     "text": [
      "hai naresh how are you"
     ]
    }
   ],
   "source": [
    "a='hai naresh how are you'\n",
    "for i in a:\n",
    "    print(i,end='')"
   ]
  },
  {
   "cell_type": "markdown",
   "id": "be5ae983-c8c5-4e31-88cd-9f041f7fa875",
   "metadata": {},
   "source": [
    "###  Q5) wap ask the user iterate using a stri string='welcome' print the postive index of w is 0"
   ]
  },
  {
   "cell_type": "code",
   "execution_count": 7,
   "id": "3114d498-e935-431c-9550-2ac1bc28a303",
   "metadata": {},
   "outputs": [
    {
     "name": "stdout",
     "output_type": "stream",
     "text": [
      "the positive index of w is = 0\n",
      "the positive index of e is = 1\n",
      "the positive index of l is = 2\n",
      "the positive index of c is = 3\n",
      "the positive index of o is = 4\n",
      "the positive index of m is = 5\n",
      "the positive index of e is = 6\n"
     ]
    }
   ],
   "source": [
    "a='welcome'\n",
    "for i in range(len(a)):\n",
    "    print('the positive index of', a[i],'is =',i)"
   ]
  },
  {
   "cell_type": "markdown",
   "id": "39f635c3-d9c6-4c8e-80c9-59cf50237eba",
   "metadata": {},
   "source": [
    "### Q6) wap ask the user iterate using a string string='welcome print the negative index of w is -7"
   ]
  },
  {
   "cell_type": "code",
   "execution_count": 6,
   "id": "f243bc45-f235-4066-b635-4fe317edfc15",
   "metadata": {},
   "outputs": [
    {
     "name": "stdout",
     "output_type": "stream",
     "text": [
      "the negative index of w is = -7\n",
      "the negative index of e is = -6\n",
      "the negative index of l is = -5\n",
      "the negative index of c is = -4\n",
      "the negative index of o is = -3\n",
      "the negative index of m is = -2\n",
      "the negative index of e is = -1\n"
     ]
    }
   ],
   "source": [
    "a='welcome'\n",
    "for i in range(len(a)):\n",
    "    print('the negative index of',a[i],'is =',i-len(a))"
   ]
  },
  {
   "cell_type": "markdown",
   "id": "dc183628-022a-4182-876d-bc4946301998",
   "metadata": {},
   "source": [
    "### Q7) "
   ]
  },
  {
   "cell_type": "code",
   "execution_count": 1,
   "id": "633ebe83-d690-4e4f-9dc3-74575b45f656",
   "metadata": {},
   "outputs": [
    {
     "name": "stdout",
     "output_type": "stream",
     "text": [
      "the negative index of w is = -7 and the postive index of w is = 0\n",
      "the negative index of e is = -6 and the postive index of e is = 1\n",
      "the negative index of l is = -5 and the postive index of l is = 2\n",
      "the negative index of c is = -4 and the postive index of c is = 3\n",
      "the negative index of o is = -3 and the postive index of o is = 4\n",
      "the negative index of m is = -2 and the postive index of m is = 5\n",
      "the negative index of e is = -1 and the postive index of e is = 6\n"
     ]
    }
   ],
   "source": [
    "a='welcome'\n",
    "for i in range(len(a)):\n",
    "    print('the negative index of',a[i],'is =',i-len(a),'and the postive index of',a[i],'is =',i)"
   ]
  },
  {
   "cell_type": "markdown",
   "id": "32f9d8ef-ed18-4327-8327-a2884bd5f7d3",
   "metadata": {},
   "source": [
    "### Q8)"
   ]
  },
  {
   "cell_type": "code",
   "execution_count": 14,
   "id": "a9721695-f1c9-4493-b149-72be278aa034",
   "metadata": {},
   "outputs": [
    {
     "name": "stdout",
     "output_type": "stream",
     "text": [
      "the index of a = 1\n",
      "the index of a = 8\n",
      "the index of a = 17\n"
     ]
    }
   ],
   "source": [
    "a='hai how are you iam good'\n",
    "for i in range(len(a)):\n",
    "    if a[i]=='a':\n",
    "        print('the index of a =',i)"
   ]
  },
  {
   "cell_type": "markdown",
   "id": "e0f15f6a-571a-4f21-97a2-1293f78c8f45",
   "metadata": {},
   "source": [
    "### Q9) count no of a in a given string"
   ]
  },
  {
   "cell_type": "code",
   "execution_count": 16,
   "id": "ab84e75a-2a69-45c6-b0ff-6c7a9f67ecb6",
   "metadata": {},
   "outputs": [
    {
     "name": "stdout",
     "output_type": "stream",
     "text": [
      "there are 3 no of a in that string\n"
     ]
    }
   ],
   "source": [
    "a='hai how are you iam good'\n",
    "c=0\n",
    "for i in a:\n",
    "    if i=='a':\n",
    "        c+=1\n",
    "print('there are',c,'no of a in that string')"
   ]
  },
  {
   "cell_type": "markdown",
   "id": "2548edc3-29ad-4c81-8128-5f8b1d0ff363",
   "metadata": {},
   "source": [
    "### Q10) sum of indexes"
   ]
  },
  {
   "cell_type": "code",
   "execution_count": 18,
   "id": "9bc0c731-ad59-42ee-95a8-f3c768ef3e6d",
   "metadata": {},
   "outputs": [
    {
     "name": "stdout",
     "output_type": "stream",
     "text": [
      "the  sum of indexes = 26\n"
     ]
    }
   ],
   "source": [
    "a='hai how are you iam good'\n",
    "c=0\n",
    "for i in range(len(a)):\n",
    "    if a[i]=='a':\n",
    "        c+=i\n",
    "print('the  sum of indexes =',c)\n",
    "    "
   ]
  },
  {
   "cell_type": "markdown",
   "id": "8683c8fd-81ab-4910-8bb4-fcba891de3fc",
   "metadata": {},
   "source": [
    "### Q11) wap ask the user get the vowels from a given string using for-range"
   ]
  },
  {
   "cell_type": "code",
   "execution_count": 1,
   "id": "77d9db50-81ec-48f8-a1ee-f42de64c6dbc",
   "metadata": {},
   "outputs": [
    {
     "name": "stdout",
     "output_type": "stream",
     "text": [
      "1 a\n",
      "2 i\n",
      "5 o\n",
      "8 a\n",
      "10 e\n",
      "13 o\n",
      "14 u\n",
      "16 i\n",
      "17 a\n",
      "21 o\n",
      "22 o\n"
     ]
    }
   ],
   "source": [
    "a='hai how are you iam good'\n",
    "for i in range(len(a)):\n",
    "    if a[i] in 'aeiou':\n",
    "        print(i,a[i])"
   ]
  },
  {
   "cell_type": "markdown",
   "id": "3e107227-0ca3-4e19-b3f8-cc8599aed92c",
   "metadata": {},
   "source": [
    "### Q13)updated wap ask the user get the vowels from a given string using for-range"
   ]
  },
  {
   "cell_type": "code",
   "execution_count": 3,
   "id": "63a061ac-1e42-4317-9bf6-c06a65bf9564",
   "metadata": {},
   "outputs": [
    {
     "name": "stdout",
     "output_type": "stream",
     "text": [
      "1 a\n",
      "2 i\n",
      "5 o\n",
      "10 e\n",
      "14 u\n",
      "there are 5 no of unique volwels\n"
     ]
    }
   ],
   "source": [
    "a='hai how are you iam good'\n",
    "b=[]\n",
    "for i in range(len(a)):\n",
    "    if a[i] in 'aeiou':\n",
    "        if a[i] not in b:\n",
    "            b.append(a[i])\n",
    "            print(i,a[i])\n",
    "print('there are',len(b),'no of unique volwels')"
   ]
  },
  {
   "cell_type": "markdown",
   "id": "ad3c67f2-3f44-45a1-8b22-a93ce461f4f7",
   "metadata": {},
   "source": [
    "### Q14) string1='ola ola ola'  Number of ola  = 3"
   ]
  },
  {
   "cell_type": "code",
   "execution_count": 5,
   "id": "a623874f-c7bc-4a63-af87-21503a144e9c",
   "metadata": {},
   "outputs": [
    {
     "name": "stdout",
     "output_type": "stream",
     "text": [
      "3\n"
     ]
    }
   ],
   "source": [
    "a='ola ola ola'\n",
    "c=0\n",
    "for i in range(len(a)):\n",
    "    if a[i:i+3]=='ola':\n",
    "        c+=1\n",
    "print(c)"
   ]
  },
  {
   "cell_type": "code",
   "execution_count": 6,
   "id": "ab22eece-53b2-40ac-8195-8cbc1fdcdf2c",
   "metadata": {},
   "outputs": [
    {
     "data": {
      "text/plain": [
       "3"
      ]
     },
     "execution_count": 6,
     "metadata": {},
     "output_type": "execute_result"
    }
   ],
   "source": [
    "a='ola ola ola'\n",
    "a.count('ola')"
   ]
  },
  {
   "cell_type": "code",
   "execution_count": 7,
   "id": "9dd53715-47b9-48b3-b659-7bb8d7715c31",
   "metadata": {},
   "outputs": [
    {
     "name": "stdout",
     "output_type": "stream",
     "text": [
      "3\n"
     ]
    }
   ],
   "source": [
    "a='ola ola ola'\n",
    "b=a.split(' ')\n",
    "c=0\n",
    "for i in b:\n",
    "    if i=='ola':\n",
    "        c+=1\n",
    "print(c)"
   ]
  },
  {
   "cell_type": "markdown",
   "id": "86e1ed83-3cbc-47ab-9fd9-a7811eea6784",
   "metadata": {},
   "source": [
    "### Q15) string1='hello hello hello how how how how are you What is the most repeated word : how"
   ]
  },
  {
   "cell_type": "code",
   "execution_count": 19,
   "id": "feac5caf-d1d9-4fbc-83a2-cf906fddde90",
   "metadata": {},
   "outputs": [
    {
     "name": "stdout",
     "output_type": "stream",
     "text": [
      "are\n",
      "you\n"
     ]
    }
   ],
   "source": [
    "a='hello hello hello how how how how are you'\n",
    "b=a.split(' ')\n",
    "for i in b:\n",
    "    if b.count(i)==1:\n",
    "        print(i)"
   ]
  },
  {
   "cell_type": "code",
   "execution_count": 20,
   "id": "a828bc9a-f6ff-4980-bc76-869d1248b9bc",
   "metadata": {},
   "outputs": [
    {
     "name": "stdout",
     "output_type": "stream",
     "text": [
      "Most repeated word: how\n"
     ]
    }
   ],
   "source": [
    "text = \"hello hello hello how how how how are you\"\n",
    "words = text.split()\n",
    "word_count = {}\n",
    "\n",
    "for word in words:\n",
    "  word_count[word] = word_count.get(word, 0) + 1\n",
    "\n",
    "most_repeated = max(word_count, key=word_count.get)\n",
    "print(\"Most repeated word:\", most_repeated)\n"
   ]
  },
  {
   "cell_type": "code",
   "execution_count": 21,
   "id": "0d398b8b-8b2c-4b7d-8213-497a7cfe5ad8",
   "metadata": {},
   "outputs": [
    {
     "name": "stdout",
     "output_type": "stream",
     "text": [
      "Most repeated word: how\n"
     ]
    }
   ],
   "source": [
    "def most_repeated_word(text):\n",
    "  words = text.split()\n",
    "  max_count = 0\n",
    "  most_repeated_word = \"\"\n",
    "\n",
    "  for i in range(len(words)):                                                                                               \n",
    "    count = 0\n",
    "    for j in range(len(words)):\n",
    "      if words[i] == words[j]:\n",
    "        count += 1\n",
    "    if count > max_count:\n",
    "      max_count = count\n",
    "      most_repeated_word = words[i]\n",
    "\n",
    "  return most_repeated_word\n",
    "\n",
    "text = \"hello hello hello how how how how are you\"\n",
    "result = most_repeated_word(text)\n",
    "print(\"Most repeated word:\", result)\n"
   ]
  },
  {
   "cell_type": "code",
   "execution_count": 27,
   "id": "078f107f-0350-46c8-ba7b-cf7130e0b40b",
   "metadata": {},
   "outputs": [
    {
     "name": "stdout",
     "output_type": "stream",
     "text": [
      "a i s s v w\n"
     ]
    }
   ],
   "source": [
    "a='viswas'\n",
    "print(*sorted(a))"
   ]
  },
  {
   "cell_type": "code",
   "execution_count": 31,
   "id": "667ce5ee-0702-436f-93c5-7c4cfd34691e",
   "metadata": {},
   "outputs": [
    {
     "name": "stdout",
     "output_type": "stream",
     "text": [
      "['v', 'i', 'i', 'i', 'i', 's', 's', 'a', 'a', 'a', 'a', 'a', 's', 's']\n"
     ]
    }
   ],
   "source": [
    "a='viswas'\n",
    "b=[]\n",
    "for i in range(len(a)):\n",
    "    for j in range(len(a)):"
   ]
  },
  {
   "cell_type": "code",
   "execution_count": 32,
   "id": "7e59945c-a8e9-45b5-9fad-1835625a55fd",
   "metadata": {},
   "outputs": [
    {
     "name": "stdout",
     "output_type": "stream",
     "text": [
      "aissvw\n"
     ]
    }
   ],
   "source": [
    "def bubble_sort_letters(s):\n",
    "    letters = list(s)\n",
    "    n = len(letters)\n",
    "    for i in range(n):\n",
    "        for j in range(0, n-i-1):\n",
    "            if letters[j] > letters[j+1]:\n",
    "                letters[j], letters[j+1] = letters[j+1], letters[j]\n",
    "    return ''.join(letters)\n",
    "\n",
    "# Example usage:\n",
    "s = \"viswas\"\n",
    "sorted_s = bubble_sort_letters(s)\n",
    "print(sorted_s)  # Output: \"abcd\"\n"
   ]
  },
  {
   "cell_type": "code",
   "execution_count": 4,
   "id": "f5662d3e-73b8-4d46-8359-9dcafe8712a1",
   "metadata": {},
   "outputs": [
    {
     "name": "stdout",
     "output_type": "stream",
     "text": [
      "aree\n",
      "{'u', 'hellooooo', 'how', 'aree'}\n",
      "['hellooooo', 'how', 'aree', 'u']\n"
     ]
    }
   ],
   "source": [
    "a='hellooooo how aree u'\n",
    "b=a.split(' ')\n",
    "s=set(b)\n",
    "l=0\n",
    "st=''\n",
    "for i in s:\n",
    "    if b.count(i)>l:\n",
    "        st=i\n",
    "print(st)\n",
    "print(s)\n",
    "print(b)"
   ]
  },
  {
   "cell_type": "code",
   "execution_count": 1,
   "id": "80390ff0-a138-417c-9509-bb40522319bf",
   "metadata": {},
   "outputs": [
    {
     "name": "stdout",
     "output_type": "stream",
     "text": [
      "how = 2\n",
      "viswas = 3\n",
      "are = 1\n",
      "hello = 2\n",
      "you = 1\n"
     ]
    }
   ],
   "source": [
    "a='viswas viswas viswas hello hello how how are you'\n",
    "b=a.split(' ')\n",
    "s=set(b)\n",
    "for i in s:\n",
    "    v=b.count(i)\n",
    "    print(i,'=',v)"
   ]
  },
  {
   "cell_type": "code",
   "execution_count": 7,
   "id": "ce559aa5-1387-42ca-918d-fd32dcdcd3b8",
   "metadata": {},
   "outputs": [
    {
     "name": "stdout",
     "output_type": "stream",
     "text": [
      "viswas\n",
      "{'how', 'viswas', 'are', 'hello', 'you'}\n",
      "['viswas', 'viswas', 'viswas', 'hello', 'hello', 'how', 'how', 'are', 'you']\n"
     ]
    }
   ],
   "source": [
    "a='viswas viswas viswas hello hello how how are you'\n",
    "b=a.split(' ')\n",
    "s=set(b)\n",
    "k=-1\n",
    "l=''\n",
    "for i in s:\n",
    "    v=b.count(i)\n",
    "    if v>k:\n",
    "        l=i\n",
    "        k=v\n",
    "print(l)\n",
    "print(s)\n",
    "print(b)"
   ]
  },
  {
   "cell_type": "code",
   "execution_count": 13,
   "id": "8547d65f-4314-4701-ab99-a07804bc258e",
   "metadata": {},
   "outputs": [
    {
     "name": "stdout",
     "output_type": "stream",
     "text": [
      "['how', 'are']\n",
      "{'how', 'viswas', 'are', 'hello', 'you'}\n",
      "['viswas', 'viswas', 'viswas', 'hello', 'hello', 'how', 'how', 'are', 'you']\n"
     ]
    }
   ],
   "source": [
    "a='viswas viswas viswas hello hello how how are you'\n",
    "b=a.split(' ')\n",
    "s=set(b)\n",
    "k=9999\n",
    "l=[]\n",
    "for i in s:\n",
    "    v=b.count(i)\n",
    "    if v<k:\n",
    "        l.append(i)\n",
    "        k=v\n",
    "print(l)\n",
    "print(s)\n",
    "print(b)"
   ]
  },
  {
   "cell_type": "code",
   "execution_count": 9,
   "id": "08995ce0-45a1-4659-8c92-27d00a8ac6d8",
   "metadata": {},
   "outputs": [
    {
     "data": {
      "text/plain": [
       "97"
      ]
     },
     "execution_count": 9,
     "metadata": {},
     "output_type": "execute_result"
    }
   ],
   "source": [
    "ord('a')"
   ]
  },
  {
   "cell_type": "code",
   "execution_count": 10,
   "id": "f6a102fa-f6e6-490e-9d4c-7ab36e848dff",
   "metadata": {},
   "outputs": [
    {
     "data": {
      "text/plain": [
       "'a'"
      ]
     },
     "execution_count": 10,
     "metadata": {},
     "output_type": "execute_result"
    }
   ],
   "source": [
    "chr(97)"
   ]
  },
  {
   "cell_type": "code",
   "execution_count": null,
   "id": "cc78c2f8-b58c-4ed2-aed0-9ef645aacd39",
   "metadata": {},
   "outputs": [],
   "source": [
    " Q15) string1='hello hello hello how how how how are you'\n",
    "# What is the most repeated word : how"
   ]
  },
  {
   "cell_type": "code",
   "execution_count": null,
   "id": "cedbe25d-9c50-4bad-b851-5c7cc55eb9b7",
   "metadata": {},
   "outputs": [],
   "source": [
    "Q16) string1='hellooooo how aree u'\n",
    "# what is the maximum length of word: helloooo\n",
    "# what is the minimum length of word: u\n"
   ]
  },
  {
   "cell_type": "code",
   "execution_count": 15,
   "id": "66238536-81ef-45dd-b791-10e0ae67becf",
   "metadata": {},
   "outputs": [
    {
     "name": "stdout",
     "output_type": "stream",
     "text": [
      "hellooooo\n",
      "u\n"
     ]
    }
   ],
   "source": [
    "a='hellooooo how aree u'\n",
    "b=a.split(' ')\n",
    "s=set(b)\n",
    "k=9999\n",
    "m=-1\n",
    "l=''\n",
    "p=''\n",
    "for i in s:\n",
    "    v=len(i)\n",
    "    if v<k:\n",
    "        l=i\n",
    "        k=v\n",
    "    if v>m:\n",
    "        p=i\n",
    "        m=v\n",
    "print(p)\n",
    "print(l)\n",
    "        "
   ]
  },
  {
   "cell_type": "code",
   "execution_count": null,
   "id": "3159b411-dd68-4bc0-9d00-6a36cedfbb91",
   "metadata": {},
   "outputs": [],
   "source": [
    "# with out using sorted then sort the letters"
   ]
  },
  {
   "cell_type": "code",
   "execution_count": 18,
   "id": "1463ddd3-2894-4f84-8d6a-059a294d06b5",
   "metadata": {},
   "outputs": [
    {
     "data": {
      "text/plain": [
       "['h', 'n', 'o', 'p', 't', 'y']"
      ]
     },
     "execution_count": 18,
     "metadata": {},
     "output_type": "execute_result"
    }
   ],
   "source": [
    "a='python'\n",
    "sorted(a)"
   ]
  },
  {
   "cell_type": "code",
   "execution_count": 20,
   "id": "ed1313b1-2d8d-404e-9e59-74fb042bc95f",
   "metadata": {},
   "outputs": [
    {
     "data": {
      "text/plain": [
       "(104, 110, 111, 112, 116, 121)"
      ]
     },
     "execution_count": 20,
     "metadata": {},
     "output_type": "execute_result"
    }
   ],
   "source": [
    "ord('h'),ord('n'),ord('o'),ord('p'),ord('t'),ord('y')"
   ]
  },
  {
   "cell_type": "code",
   "execution_count": 21,
   "id": "76d15740-267c-41c8-8ab0-0cfb250a0257",
   "metadata": {},
   "outputs": [
    {
     "data": {
      "text/plain": [
       "'h'"
      ]
     },
     "execution_count": 21,
     "metadata": {},
     "output_type": "execute_result"
    }
   ],
   "source": [
    "chr(104)"
   ]
  },
  {
   "cell_type": "code",
   "execution_count": 38,
   "id": "a66cb191-cd1b-4fc9-b8a7-70fde30efb97",
   "metadata": {},
   "outputs": [
    {
     "name": "stdout",
     "output_type": "stream",
     "text": [
      "hhhppp\n"
     ]
    }
   ],
   "source": [
    "a='python'\n",
    "b=''\n",
    "h=''\n",
    "for i in range(len(a)):\n",
    "    n=9999\n",
    "    for j in range(0,len(a)-i):\n",
    "        k=ord(a[j])\n",
    "        if k<n:\n",
    "            n=k\n",
    "            h=a[j]\n",
    "    b=b+h\n",
    "    a.replace(h,'',1)\n",
    "print(b)"
   ]
  },
  {
   "cell_type": "code",
   "execution_count": 24,
   "id": "335bd609-764c-441c-a121-bccfa4091f24",
   "metadata": {},
   "outputs": [
    {
     "data": {
      "text/plain": [
       "'ython'"
      ]
     },
     "execution_count": 24,
     "metadata": {},
     "output_type": "execute_result"
    }
   ],
   "source": [
    "a='python'\n",
    "a.replace('p','')"
   ]
  },
  {
   "cell_type": "code",
   "execution_count": 25,
   "id": "d0508478-ae30-477b-af0e-a3f32b87cfec",
   "metadata": {},
   "outputs": [
    {
     "data": {
      "text/plain": [
       "'weLlcome'"
      ]
     },
     "execution_count": 25,
     "metadata": {},
     "output_type": "execute_result"
    }
   ],
   "source": [
    "a='wellcome'\n",
    "a.replace('l','L',1)"
   ]
  },
  {
   "cell_type": "code",
   "execution_count": null,
   "id": "9789e475-5533-441d-be87-72705ac7cd97",
   "metadata": {},
   "outputs": [],
   "source": [
    "nohtyp\n",
    "\n",
    "'h', 'n', 'o', 'p', 't', 'y"
   ]
  },
  {
   "cell_type": "code",
   "execution_count": 34,
   "id": "345228c4-fb57-4e64-bb76-c894d647a015",
   "metadata": {},
   "outputs": [
    {
     "data": {
      "text/plain": [
       "'hsenag'"
      ]
     },
     "execution_count": 34,
     "metadata": {},
     "output_type": "execute_result"
    }
   ],
   "source": [
    "a='ganesh'\n",
    "a[::-1]"
   ]
  },
  {
   "cell_type": "code",
   "execution_count": 2,
   "id": "ab195e7b-50cc-4314-8215-926eb52d140e",
   "metadata": {},
   "outputs": [
    {
     "name": "stdout",
     "output_type": "stream",
     "text": [
      "hnopty"
     ]
    }
   ],
   "source": [
    "a = 'python'\n",
    "h=''\n",
    "while a:\n",
    "    n = 9999  # Reset n to a large value\n",
    "    for i in range(len(a)):\n",
    "        k = ord(a[i])\n",
    "        if k < n:\n",
    "            n = k\n",
    "            h = a[i]\n",
    "    a = a.replace(h, '', 1)\n",
    "    print(h,end='')"
   ]
  },
  {
   "cell_type": "code",
   "execution_count": 41,
   "id": "45a5d47f-6bbb-42fd-b505-13950ba2e576",
   "metadata": {},
   "outputs": [
    {
     "data": {
      "text/plain": [
       "(104, 110, 111, 112, 116, 121)"
      ]
     },
     "execution_count": 41,
     "metadata": {},
     "output_type": "execute_result"
    }
   ],
   "source": [
    "ord('h'),ord('n'),ord('o'),ord('p'),ord('t'),ord('y')"
   ]
  },
  {
   "cell_type": "code",
   "execution_count": null,
   "id": "b09b9ebb-b490-4bea-861d-f4da4d90d471",
   "metadata": {},
   "outputs": [],
   "source": []
  }
 ],
 "metadata": {
  "kernelspec": {
   "display_name": "Python 3 (ipykernel)",
   "language": "python",
   "name": "python3"
  },
  "language_info": {
   "codemirror_mode": {
    "name": "ipython",
    "version": 3
   },
   "file_extension": ".py",
   "mimetype": "text/x-python",
   "name": "python",
   "nbconvert_exporter": "python",
   "pygments_lexer": "ipython3",
   "version": "3.11.7"
  }
 },
 "nbformat": 4,
 "nbformat_minor": 5
}
